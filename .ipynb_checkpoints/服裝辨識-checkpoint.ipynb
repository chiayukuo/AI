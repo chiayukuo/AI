{
 "cells": [
  {
   "cell_type": "code",
   "execution_count": 2,
   "metadata": {},
   "outputs": [],
   "source": [
    "%matplotlib inline\n",
    "\n",
    "import numpy as np\n",
    "import pandas as pd\n",
    "import matplotlib.pyplot as plt"
   ]
  },
  {
   "cell_type": "code",
   "execution_count": 3,
   "metadata": {},
   "outputs": [
    {
     "name": "stderr",
     "output_type": "stream",
     "text": [
      "C:\\Users\\user\\Anaconda3\\lib\\site-packages\\tensorflow\\python\\framework\\dtypes.py:516: FutureWarning: Passing (type, 1) or '1type' as a synonym of type is deprecated; in a future version of numpy, it will be understood as (type, (1,)) / '(1,)type'.\n",
      "  _np_qint8 = np.dtype([(\"qint8\", np.int8, 1)])\n",
      "C:\\Users\\user\\Anaconda3\\lib\\site-packages\\tensorflow\\python\\framework\\dtypes.py:517: FutureWarning: Passing (type, 1) or '1type' as a synonym of type is deprecated; in a future version of numpy, it will be understood as (type, (1,)) / '(1,)type'.\n",
      "  _np_quint8 = np.dtype([(\"quint8\", np.uint8, 1)])\n",
      "C:\\Users\\user\\Anaconda3\\lib\\site-packages\\tensorflow\\python\\framework\\dtypes.py:518: FutureWarning: Passing (type, 1) or '1type' as a synonym of type is deprecated; in a future version of numpy, it will be understood as (type, (1,)) / '(1,)type'.\n",
      "  _np_qint16 = np.dtype([(\"qint16\", np.int16, 1)])\n",
      "C:\\Users\\user\\Anaconda3\\lib\\site-packages\\tensorflow\\python\\framework\\dtypes.py:519: FutureWarning: Passing (type, 1) or '1type' as a synonym of type is deprecated; in a future version of numpy, it will be understood as (type, (1,)) / '(1,)type'.\n",
      "  _np_quint16 = np.dtype([(\"quint16\", np.uint16, 1)])\n",
      "C:\\Users\\user\\Anaconda3\\lib\\site-packages\\tensorflow\\python\\framework\\dtypes.py:520: FutureWarning: Passing (type, 1) or '1type' as a synonym of type is deprecated; in a future version of numpy, it will be understood as (type, (1,)) / '(1,)type'.\n",
      "  _np_qint32 = np.dtype([(\"qint32\", np.int32, 1)])\n",
      "C:\\Users\\user\\Anaconda3\\lib\\site-packages\\tensorflow\\python\\framework\\dtypes.py:525: FutureWarning: Passing (type, 1) or '1type' as a synonym of type is deprecated; in a future version of numpy, it will be understood as (type, (1,)) / '(1,)type'.\n",
      "  np_resource = np.dtype([(\"resource\", np.ubyte, 1)])\n",
      "C:\\Users\\user\\Anaconda3\\lib\\site-packages\\tensorboard\\compat\\tensorflow_stub\\dtypes.py:541: FutureWarning: Passing (type, 1) or '1type' as a synonym of type is deprecated; in a future version of numpy, it will be understood as (type, (1,)) / '(1,)type'.\n",
      "  _np_qint8 = np.dtype([(\"qint8\", np.int8, 1)])\n",
      "C:\\Users\\user\\Anaconda3\\lib\\site-packages\\tensorboard\\compat\\tensorflow_stub\\dtypes.py:542: FutureWarning: Passing (type, 1) or '1type' as a synonym of type is deprecated; in a future version of numpy, it will be understood as (type, (1,)) / '(1,)type'.\n",
      "  _np_quint8 = np.dtype([(\"quint8\", np.uint8, 1)])\n",
      "C:\\Users\\user\\Anaconda3\\lib\\site-packages\\tensorboard\\compat\\tensorflow_stub\\dtypes.py:543: FutureWarning: Passing (type, 1) or '1type' as a synonym of type is deprecated; in a future version of numpy, it will be understood as (type, (1,)) / '(1,)type'.\n",
      "  _np_qint16 = np.dtype([(\"qint16\", np.int16, 1)])\n",
      "C:\\Users\\user\\Anaconda3\\lib\\site-packages\\tensorboard\\compat\\tensorflow_stub\\dtypes.py:544: FutureWarning: Passing (type, 1) or '1type' as a synonym of type is deprecated; in a future version of numpy, it will be understood as (type, (1,)) / '(1,)type'.\n",
      "  _np_quint16 = np.dtype([(\"quint16\", np.uint16, 1)])\n",
      "C:\\Users\\user\\Anaconda3\\lib\\site-packages\\tensorboard\\compat\\tensorflow_stub\\dtypes.py:545: FutureWarning: Passing (type, 1) or '1type' as a synonym of type is deprecated; in a future version of numpy, it will be understood as (type, (1,)) / '(1,)type'.\n",
      "  _np_qint32 = np.dtype([(\"qint32\", np.int32, 1)])\n",
      "C:\\Users\\user\\Anaconda3\\lib\\site-packages\\tensorboard\\compat\\tensorflow_stub\\dtypes.py:550: FutureWarning: Passing (type, 1) or '1type' as a synonym of type is deprecated; in a future version of numpy, it will be understood as (type, (1,)) / '(1,)type'.\n",
      "  np_resource = np.dtype([(\"resource\", np.ubyte, 1)])\n"
     ]
    }
   ],
   "source": [
    "import tensorflow as tf"
   ]
  },
  {
   "cell_type": "code",
   "execution_count": 88,
   "metadata": {},
   "outputs": [],
   "source": [
    "from tensorflow.keras.datasets import fashion_mnist"
   ]
  },
  {
   "cell_type": "code",
   "execution_count": 204,
   "metadata": {},
   "outputs": [],
   "source": [
    "(x_train, y_train),(x_test, y_test)=fashion_mnist.load_data()"
   ]
  },
  {
   "cell_type": "code",
   "execution_count": 205,
   "metadata": {},
   "outputs": [],
   "source": [
    "names=['T-shirt/top', 'Trouser', 'Pullover', 'Dress', 'Coat',\n",
    "               'Sandal', 'Shirt', 'Sneaker', 'Bag', 'Ankle boot']"
   ]
  },
  {
   "cell_type": "code",
   "execution_count": 208,
   "metadata": {},
   "outputs": [
    {
     "data": {
      "text/html": [
       "<div>\n",
       "<style scoped>\n",
       "    .dataframe tbody tr th:only-of-type {\n",
       "        vertical-align: middle;\n",
       "    }\n",
       "\n",
       "    .dataframe tbody tr th {\n",
       "        vertical-align: top;\n",
       "    }\n",
       "\n",
       "    .dataframe thead th {\n",
       "        text-align: right;\n",
       "    }\n",
       "</style>\n",
       "<table border=\"1\" class=\"dataframe\">\n",
       "  <thead>\n",
       "    <tr style=\"text-align: right;\">\n",
       "      <th></th>\n",
       "      <th>name</th>\n",
       "      <th>index</th>\n",
       "    </tr>\n",
       "  </thead>\n",
       "  <tbody>\n",
       "    <tr>\n",
       "      <th>0</th>\n",
       "      <td>T-shirt/top</td>\n",
       "      <td>0</td>\n",
       "    </tr>\n",
       "    <tr>\n",
       "      <th>1</th>\n",
       "      <td>Trouser</td>\n",
       "      <td>1</td>\n",
       "    </tr>\n",
       "    <tr>\n",
       "      <th>2</th>\n",
       "      <td>Pullover</td>\n",
       "      <td>2</td>\n",
       "    </tr>\n",
       "    <tr>\n",
       "      <th>3</th>\n",
       "      <td>Dress</td>\n",
       "      <td>3</td>\n",
       "    </tr>\n",
       "    <tr>\n",
       "      <th>4</th>\n",
       "      <td>Coat</td>\n",
       "      <td>4</td>\n",
       "    </tr>\n",
       "    <tr>\n",
       "      <th>5</th>\n",
       "      <td>Sandal</td>\n",
       "      <td>5</td>\n",
       "    </tr>\n",
       "    <tr>\n",
       "      <th>6</th>\n",
       "      <td>Shirt</td>\n",
       "      <td>6</td>\n",
       "    </tr>\n",
       "    <tr>\n",
       "      <th>7</th>\n",
       "      <td>Sneaker</td>\n",
       "      <td>7</td>\n",
       "    </tr>\n",
       "    <tr>\n",
       "      <th>8</th>\n",
       "      <td>Bag</td>\n",
       "      <td>8</td>\n",
       "    </tr>\n",
       "    <tr>\n",
       "      <th>9</th>\n",
       "      <td>Ankle boot</td>\n",
       "      <td>9</td>\n",
       "    </tr>\n",
       "  </tbody>\n",
       "</table>\n",
       "</div>"
      ],
      "text/plain": [
       "          name  index\n",
       "0  T-shirt/top      0\n",
       "1      Trouser      1\n",
       "2     Pullover      2\n",
       "3        Dress      3\n",
       "4         Coat      4\n",
       "5       Sandal      5\n",
       "6        Shirt      6\n",
       "7      Sneaker      7\n",
       "8          Bag      8\n",
       "9   Ankle boot      9"
      ]
     },
     "execution_count": 208,
     "metadata": {},
     "output_type": "execute_result"
    }
   ],
   "source": [
    "pd.DataFrame({\"name\":names,\"index\":sorted(np.unique(y_train))})"
   ]
  },
  {
   "cell_type": "code",
   "execution_count": 209,
   "metadata": {},
   "outputs": [
    {
     "data": {
      "image/png": "[encoded data removed]",
      "text/plain": [
       "<Figure size 432x288 with 5 Axes>"
      ]
     },
     "metadata": {},
     "output_type": "display_data"
    }
   ],
   "source": [
    "pick = np.random.choice(60000, 5, replace=False)\n",
    "\n",
    "for i in range(5):\n",
    "    n = pick[i]\n",
    "    ax = plt.subplot(151+i)\n",
    "    ax.set_xticks([])\n",
    "    ax.set_yticks([])\n",
    "    ax.set_title(names[y_train[n]], fontsize=10)\n",
    "    plt.imshow(x_train[n], cmap='Greys')  \n"
   ]
  },
  {
   "cell_type": "code",
   "execution_count": 210,
   "metadata": {},
   "outputs": [],
   "source": [
    "x_train=x_train.reshape(-1,784)/255\n",
    "x_test=x_test.reshape(-1,784)/255"
   ]
  },
  {
   "cell_type": "code",
   "execution_count": 211,
   "metadata": {},
   "outputs": [],
   "source": [
    "from tensorflow.keras.utils import to_categorical"
   ]
  },
  {
   "cell_type": "code",
   "execution_count": 212,
   "metadata": {},
   "outputs": [],
   "source": [
    "y_train=to_categorical(y_train)\n",
    "y_test=to_categorical(y_test)"
   ]
  },
  {
   "cell_type": "code",
   "execution_count": 213,
   "metadata": {},
   "outputs": [],
   "source": [
    "from tensorflow.keras.models import Sequential\n",
    "from tensorflow.keras.layers import Dense\n",
    "from tensorflow.keras.optimizers import SGD"
   ]
  },
  {
   "cell_type": "code",
   "execution_count": 214,
   "metadata": {},
   "outputs": [],
   "source": [
    "model= Sequential()"
   ]
  },
  {
   "cell_type": "code",
   "execution_count": 215,
   "metadata": {},
   "outputs": [],
   "source": [
    "model.add(Dense(100, input_dim=784, activation=\"relu\"))"
   ]
  },
  {
   "cell_type": "code",
   "execution_count": 216,
   "metadata": {},
   "outputs": [],
   "source": [
    "model.add(Dense(90,activation=\"relu\"))"
   ]
  },
  {
   "cell_type": "code",
   "execution_count": 217,
   "metadata": {},
   "outputs": [],
   "source": [
    "model.add(Dense(100,activation=\"relu\"))"
   ]
  },
  {
   "cell_type": "code",
   "execution_count": 218,
   "metadata": {},
   "outputs": [],
   "source": [
    "model.add(Dense(10,activation=\"softmax\"))"
   ]
  },
  {
   "cell_type": "code",
   "execution_count": 219,
   "metadata": {},
   "outputs": [],
   "source": [
    "model.compile(loss=\"mse\",optimizer=SGD(lr=0.025),metrics=[\"accuracy\"])"
   ]
  },
  {
   "cell_type": "code",
   "execution_count": 220,
   "metadata": {},
   "outputs": [
    {
     "name": "stdout",
     "output_type": "stream",
     "text": [
      "Model: \"sequential_13\"\n",
      "_________________________________________________________________\n",
      "Layer (type)                 Output Shape              Param #   \n",
      "=================================================================\n",
      "dense_54 (Dense)             (None, 100)               78500     \n",
      "_________________________________________________________________\n",
      "dense_55 (Dense)             (None, 90)                9090      \n",
      "_________________________________________________________________\n",
      "dense_56 (Dense)             (None, 100)               9100      \n",
      "_________________________________________________________________\n",
      "dense_57 (Dense)             (None, 10)                1010      \n",
      "=================================================================\n",
      "Total params: 97,700\n",
      "Trainable params: 97,700\n",
      "Non-trainable params: 0\n",
      "_________________________________________________________________\n"
     ]
    }
   ],
   "source": [
    "model.summary()"
   ]
  },
  {
   "cell_type": "code",
   "execution_count": 221,
   "metadata": {},
   "outputs": [
    {
     "name": "stdout",
     "output_type": "stream",
     "text": [
      "Epoch 1/40\n",
      "60000/60000 [==============================] - 4s 62us/sample - loss: 0.0860 - acc: 0.2283\n",
      "Epoch 2/40\n",
      "60000/60000 [==============================] - 3s 58us/sample - loss: 0.0660 - acc: 0.5384\n",
      "Epoch 3/40\n",
      "60000/60000 [==============================] - 4s 59us/sample - loss: 0.0487 - acc: 0.6603\n",
      "Epoch 4/40\n",
      "60000/60000 [==============================] - 4s 59us/sample - loss: 0.0421 - acc: 0.6862\n",
      "Epoch 5/40\n",
      "60000/60000 [==============================] - 3s 58us/sample - loss: 0.0382 - acc: 0.7301\n",
      "Epoch 6/40\n",
      "60000/60000 [==============================] - 4s 61us/sample - loss: 0.0349 - acc: 0.7714\n",
      "Epoch 7/40\n",
      "60000/60000 [==============================] - 4s 59us/sample - loss: 0.0321 - acc: 0.7943\n",
      "Epoch 8/40\n",
      "60000/60000 [==============================] - 4s 59us/sample - loss: 0.0301 - acc: 0.8054\n",
      "Epoch 9/40\n",
      "60000/60000 [==============================] - 4s 58us/sample - loss: 0.0286 - acc: 0.8127\n",
      "Epoch 10/40\n",
      "60000/60000 [==============================] - 4s 59us/sample - loss: 0.0275 - acc: 0.8195\n",
      "Epoch 11/40\n",
      "60000/60000 [==============================] - 4s 61us/sample - loss: 0.0266 - acc: 0.8228\n",
      "Epoch 12/40\n",
      "60000/60000 [==============================] - 4s 60us/sample - loss: 0.0258 - acc: 0.8263\n",
      "Epoch 13/40\n",
      "60000/60000 [==============================] - 4s 61us/sample - loss: 0.0252 - acc: 0.8312\n",
      "Epoch 14/40\n",
      "60000/60000 [==============================] - 5s 76us/sample - loss: 0.0247 - acc: 0.8342\n",
      "Epoch 15/40\n",
      "60000/60000 [==============================] - 4s 60us/sample - loss: 0.0243 - acc: 0.8370\n",
      "Epoch 16/40\n",
      "60000/60000 [==============================] - 4s 60us/sample - loss: 0.0238 - acc: 0.8391\n",
      "Epoch 17/40\n",
      "60000/60000 [==============================] - 4s 59us/sample - loss: 0.0235 - acc: 0.8408\n",
      "Epoch 18/40\n",
      "60000/60000 [==============================] - 4s 62us/sample - loss: 0.0232 - acc: 0.8428\n",
      "Epoch 19/40\n",
      "60000/60000 [==============================] - 4s 60us/sample - loss: 0.0229 - acc: 0.8444\n",
      "Epoch 20/40\n",
      "60000/60000 [==============================] - 4s 60us/sample - loss: 0.0226 - acc: 0.8466\n",
      "Epoch 21/40\n",
      "60000/60000 [==============================] - 4s 61us/sample - loss: 0.0224 - acc: 0.8483\n",
      "Epoch 22/40\n",
      "60000/60000 [==============================] - 4s 60us/sample - loss: 0.0222 - acc: 0.8498\n",
      "Epoch 23/40\n",
      "60000/60000 [==============================] - 4s 61us/sample - loss: 0.0220 - acc: 0.8511\n",
      "Epoch 24/40\n",
      "60000/60000 [==============================] - 4s 60us/sample - loss: 0.0218 - acc: 0.8519\n",
      "Epoch 25/40\n",
      "60000/60000 [==============================] - 4s 62us/sample - loss: 0.0216 - acc: 0.8542\n",
      "Epoch 26/40\n",
      "60000/60000 [==============================] - 4s 60us/sample - loss: 0.0215 - acc: 0.8547\n",
      "Epoch 27/40\n",
      "60000/60000 [==============================] - 4s 60us/sample - loss: 0.0213 - acc: 0.8555\n",
      "Epoch 28/40\n",
      "60000/60000 [==============================] - 4s 60us/sample - loss: 0.0211 - acc: 0.8567\n",
      "Epoch 29/40\n",
      "60000/60000 [==============================] - 4s 61us/sample - loss: 0.0210 - acc: 0.8574\n",
      "Epoch 30/40\n",
      "60000/60000 [==============================] - 4s 61us/sample - loss: 0.0209 - acc: 0.8582\n",
      "Epoch 31/40\n",
      "60000/60000 [==============================] - 4s 60us/sample - loss: 0.0207 - acc: 0.8593\n",
      "Epoch 32/40\n",
      "60000/60000 [==============================] - 4s 62us/sample - loss: 0.0206 - acc: 0.8610\n",
      "Epoch 33/40\n",
      "60000/60000 [==============================] - 4s 61us/sample - loss: 0.0205 - acc: 0.8616\n",
      "Epoch 34/40\n",
      "60000/60000 [==============================] - 4s 61us/sample - loss: 0.0204 - acc: 0.8615\n",
      "Epoch 35/40\n",
      "60000/60000 [==============================] - 4s 61us/sample - loss: 0.0202 - acc: 0.8629\n",
      "Epoch 36/40\n",
      "60000/60000 [==============================] - 4s 63us/sample - loss: 0.0202 - acc: 0.8642\n",
      "Epoch 37/40\n",
      "60000/60000 [==============================] - 4s 61us/sample - loss: 0.0200 - acc: 0.8654\n",
      "Epoch 38/40\n",
      "60000/60000 [==============================] - 4s 61us/sample - loss: 0.0199 - acc: 0.8643\n",
      "Epoch 39/40\n",
      "60000/60000 [==============================] - 4s 61us/sample - loss: 0.0198 - acc: 0.8658\n",
      "Epoch 40/40\n",
      "60000/60000 [==============================] - 4s 60us/sample - loss: 0.0197 - acc: 0.8670\n"
     ]
    },
    {
     "data": {
      "text/plain": [
       "<tensorflow.python.keras.callbacks.History at 0x1c80bec8908>"
      ]
     },
     "execution_count": 221,
     "metadata": {},
     "output_type": "execute_result"
    }
   ],
   "source": [
    "model.fit(x_train,y_train,batch_size=50,epochs=40)"
   ]
  },
  {
   "cell_type": "code",
   "execution_count": 222,
   "metadata": {},
   "outputs": [],
   "source": [
    "result=model.predict_classes(x_test)"
   ]
  },
  {
   "cell_type": "code",
   "execution_count": 223,
   "metadata": {},
   "outputs": [
    {
     "name": "stdout",
     "output_type": "stream",
     "text": [
      "9\n"
     ]
    },
    {
     "data": {
      "text/plain": [
       "<matplotlib.image.AxesImage at 0x1c811ed9320>"
      ]
     },
     "execution_count": 223,
     "metadata": {},
     "output_type": "execute_result"
    },
    {
     "data": {
      "image/png": "[encoded data removed]",
      "text/plain": [
       "<Figure size 432x288 with 1 Axes>"
      ]
     },
     "metadata": {
      "needs_background": "light"
     },
     "output_type": "display_data"
    }
   ],
   "source": [
    "print(result[0])\n",
    "plt.imshow(x_test[0].reshape(28,28),cmap=\"Greys\")"
   ]
  },
  {
   "cell_type": "code",
   "execution_count": 224,
   "metadata": {},
   "outputs": [
    {
     "name": "stdout",
     "output_type": "stream",
     "text": [
      "10000/10000 [==============================] - 0s 47us/sample - loss: 0.0223 - acc: 0.8466\n"
     ]
    },
    {
     "data": {
      "text/plain": [
       "[0.022257571218907833, 0.8466]"
      ]
     },
     "execution_count": 224,
     "metadata": {},
     "output_type": "execute_result"
    }
   ],
   "source": [
    "model.evaluate(x_test,y_test)"
   ]
  },
  {
   "cell_type": "code",
   "execution_count": null,
   "metadata": {},
   "outputs": [],
   "source": []
  },
  {
   "cell_type": "code",
   "execution_count": 192,
   "metadata": {},
   "outputs": [
    {
     "data": {
      "text/plain": [
       "array([[1, 2, 3, 4, 5, 6]])"
      ]
     },
     "execution_count": 192,
     "metadata": {},
     "output_type": "execute_result"
    }
   ],
   "source": []
  },
  {
   "cell_type": "code",
   "execution_count": null,
   "metadata": {},
   "outputs": [],
   "source": []
  }
 ],
 "metadata": {
  "kernelspec": {
   "display_name": "Python 3",
   "language": "python",
   "name": "python3"
  },
  "language_info": {
   "codemirror_mode": {
    "name": "ipython",
    "version": 3
   },
   "file_extension": ".py",
   "mimetype": "text/x-python",
   "name": "python",
   "nbconvert_exporter": "python",
   "pygments_lexer": "ipython3",
   "version": "3.7.3"
  }
 },
 "nbformat": 4,
 "nbformat_minor": 4
}
